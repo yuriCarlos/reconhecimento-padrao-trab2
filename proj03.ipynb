{
 "cells": [
  {
   "cell_type": "code",
   "execution_count": 169,
   "metadata": {
    "collapsed": false,
    "deletable": true,
    "editable": true
   },
   "outputs": [],
   "source": [
    "%matplotlib inline"
   ]
  },
  {
   "cell_type": "markdown",
   "metadata": {
    "deletable": true,
    "editable": true
   },
   "source": [
    "\n",
    "# Faces recognition example using eigenfaces and SVMs\n",
    "\n",
    "\n",
    "The dataset used in this example is a preprocessed excerpt of the\n",
    "\"Labeled Faces in the Wild\", aka LFW_:\n",
    "\n",
    "  http://vis-www.cs.umass.edu/lfw/lfw-funneled.tgz (233MB)\n",
    "\n",
    ".. _LFW: http://vis-www.cs.umass.edu/lfw/\n",
    "\n",
    "Expected results for the top 5 most represented people in the dataset:\n",
    "\n",
    "================== ============ ======= ========== =======\n",
    "                   precision    recall  f1-score   support\n",
    "================== ============ ======= ========== =======\n",
    "     Ariel Sharon       0.67      0.92      0.77        13\n",
    "     Colin Powell       0.75      0.78      0.76        60\n",
    "  Donald Rumsfeld       0.78      0.67      0.72        27\n",
    "    George W Bush       0.86      0.86      0.86       146\n",
    "Gerhard Schroeder       0.76      0.76      0.76        25\n",
    "      Hugo Chavez       0.67      0.67      0.67        15\n",
    "       Tony Blair       0.81      0.69      0.75        36\n",
    "\n",
    "      avg / total       0.80      0.80      0.80       322\n",
    "================== ============ ======= ========== =======\n",
    "\n"
   ]
  },
  {
   "cell_type": "code",
   "execution_count": 170,
   "metadata": {
    "collapsed": false,
    "deletable": true,
    "editable": true
   },
   "outputs": [
    {
     "name": "stdout",
     "output_type": "stream",
     "text": [
      "Automatically created module for IPython interactive environment\n"
     ]
    }
   ],
   "source": [
    "#Yuri Carlos Bonifácio Neves - 1609670\n",
    "\n",
    "# Projeto 03 - Reconhecimento de Faces para a disciplina de Reconhecimento de Padrões em Imagens (2017/1)\n",
    "\n",
    "#\n",
    "#   O presente trabalho procura classificar as faces de identidades famosas\n",
    "#por meio de eigen faces, tendo suas dimensionalidades reduzidas a partir\n",
    "#do algoritmo PCA e, posteriormente, classificadas utilizando 5 classificadores,\n",
    "#sendo eles:\n",
    "#   DecisionTree, Knn, Naive Bayes, LDA e SVM\n",
    "#\n",
    "#   Primeiramente é executado uma otimização na escolha dos parâmetros para cada um \n",
    "#dos classificadores por meio do GridSearchCv. As melhores escolhas são usadas no \n",
    "#processo de treino e classificação, e estão discriminadas a baixo \n",
    "#   Após este processo, é executado o PCA, a fim de reduzir a dimensionalidade das\n",
    "#eigenFaces.\n",
    "#   Como os classificadores são diferentes e possuem características de funcionamento\n",
    "#diferentes é executado uma busca a fim de encontrar qual o melhor número de \n",
    "#componentes para cada um destes classificadores. Os valores selecionados foram:\n",
    "\n",
    "#   DecisionTree - 45\n",
    "#   Naive Bayes  - 75\n",
    "#   Knn          - 65\n",
    "#   LDA          - 80\n",
    "#   SVM          - 80\n",
    "\n",
    "#   Então é feita a classificação com cada um dos classificadores com os parâmetros\n",
    "#e valores de componentes obitidos.\n",
    "\n",
    "#   Foi usada uma divisão de 75% dos dados para treino e 25% para teste.\n",
    "\n",
    "#   O Decision Tree foi o classificador com o pior resultado, como já era de se esperar,\n",
    "#uma vez que os dados são pouco categóricos. Seus resultados médios foram:\n",
    "#                  precision    recall      f1         support\n",
    "#                  0.53         0.52        0.52       322\n",
    "\n",
    "#   No Naive Bayes, por não possuir uma grande quantidade de parâmetros, a fim de \n",
    "#otimizar os resultados, foi definido como prior as proporções de cada classe,\n",
    "#ou seja, razão entre a quantidade de amostras que uma classe possuia e a quantidade\n",
    "#de amostras total. Aparentemente a definição de priors dessa maneira não foi\n",
    "#muito eficiente, já que não influenciou muito nos resultados.\n",
    "\n",
    "#Antes de se definir as priors\n",
    "#                 precision    recall      f1         support\n",
    "#                 0.78         0.77        0.76       322\n",
    "\n",
    "#Depois de se definir as priors\n",
    "#                 precision    recall      f1         support\n",
    "#                 0.77         0.75        0.75       322\n",
    "\n",
    "#   O Knn seguiu com resultados não muito bons. Suspeito que seja devido ao número\n",
    "#de amostras. possivelmente, se tivessemos mais amostras o Knn teria um melhor \n",
    "#desempenho. Segue os resultados:\n",
    "\n",
    "#                 precision    recall      f1         support\n",
    "#                 0.72         0.72        0.71       322\n",
    "\n",
    "#   LDA teve resultados muito bons, bem próximos do SVM. Infelizmente, mesmo após \n",
    "#o processo do LDA, as classes ainda ficam meio misturadas, provavel que por este\n",
    "#motivo os resultados não sejam melhores.\n",
    "#   Em termos de carga computacional, por sua proximidade de resultados com o SVM,\n",
    "#pode ser uma boa opção escolher usar o LDA em uma aplicação como essa em vez \n",
    "#do SVM.\n",
    "\n",
    "#                 precision    recall      f1         support\n",
    "#                 0.80         0.80        0.80       322\n",
    "\n",
    "#   O SVM obteve os melhores resultados, sendo eles:\n",
    "\n",
    "#                 precision    recall      f1         support\n",
    "#                 0.87         0.86        0.86       322\n",
    "\n",
    "from __future__ import print_function\n",
    "\n",
    "from time import time\n",
    "import logging\n",
    "import matplotlib.pyplot as plt\n",
    "\n",
    "\n",
    "import numpy as np \n",
    "import pandas as pd\n",
    "import os\n",
    "\n",
    "from sklearn.model_selection import train_test_split\n",
    "from sklearn.model_selection import GridSearchCV\n",
    "from sklearn.datasets import fetch_lfw_people\n",
    "from sklearn.metrics import classification_report\n",
    "from sklearn.metrics import confusion_matrix\n",
    "from sklearn.decomposition import PCA\n",
    "from sklearn.svm import SVC\n",
    "\n",
    "\n",
    "#vetor de classificadores\n",
    "clfss = []\n",
    "\n",
    "print(__doc__)\n",
    "\n",
    "# Display progress logs on stdout\n",
    "logging.basicConfig(level=logging.INFO, format='%(asctime)s %(message)s')"
   ]
  },
  {
   "cell_type": "markdown",
   "metadata": {
    "deletable": true,
    "editable": true
   },
   "source": [
    "Download the data, if not already on disk and load it as numpy arrays\n"
   ]
  },
  {
   "cell_type": "code",
   "execution_count": 171,
   "metadata": {
    "collapsed": false,
    "deletable": true,
    "editable": true
   },
   "outputs": [
    {
     "name": "stderr",
     "output_type": "stream",
     "text": [
      "2017-05-29 10:09:01,536 Loading LFW people faces from /home/yuricarlos/scikit_learn_data/lfw_home\n"
     ]
    },
    {
     "name": "stdout",
     "output_type": "stream",
     "text": [
      "Total dataset size:\n",
      "n_samples: 1288\n",
      "n_features: 1850\n",
      "n_classes: 7\n"
     ]
    }
   ],
   "source": [
    "lfw_people = fetch_lfw_people(min_faces_per_person=70, resize=0.4)\n",
    "\n",
    "# introspect the images arrays to find the shapes (for plotting)\n",
    "n_samples, h, w = lfw_people.images.shape\n",
    "\n",
    "# for machine learning we use the 2 data directly (as relative pixel\n",
    "# positions info is ignored by this model)\n",
    "X = lfw_people.data\n",
    "n_features = X.shape[1]\n",
    "\n",
    "\n",
    "# the label to predict is the id of the person\n",
    "y = lfw_people.target\n",
    "target_names = lfw_people.target_names\n",
    "n_classes = target_names.shape[0]\n",
    "\n",
    "\n",
    "print(\"Total dataset size:\")\n",
    "print(\"n_samples: %d\" % n_samples)\n",
    "print(\"n_features: %d\" % n_features)\n",
    "print(\"n_classes: %d\" % n_classes)"
   ]
  },
  {
   "cell_type": "markdown",
   "metadata": {
    "deletable": true,
    "editable": true
   },
   "source": [
    "Split into a training set and a test set using a stratified k fold\n"
   ]
  },
  {
   "cell_type": "code",
   "execution_count": 172,
   "metadata": {
    "collapsed": false,
    "deletable": true,
    "editable": true
   },
   "outputs": [],
   "source": [
    "# split into a training and testing set\n",
    "X_train, X_test, y_train, y_test = train_test_split(\n",
    "    X, y, test_size=0.25, random_state=42)"
   ]
  },
  {
   "cell_type": "code",
   "execution_count": 173,
   "metadata": {
    "collapsed": false
   },
   "outputs": [
    {
     "name": "stdout",
     "output_type": "stream",
     "text": [
      "done in 0.255s\n"
     ]
    }
   ],
   "source": [
    "n_components = 100\n",
    "\n",
    "t0 = time()\n",
    "pca = PCA(n_components=n_components, svd_solver='randomized',\n",
    "          whiten=True).fit(X_train)\n",
    "print(\"done in %0.3fs\" % (time() - t0))"
   ]
  },
  {
   "cell_type": "markdown",
   "metadata": {
    "deletable": true,
    "editable": true
   },
   "source": [
    "Compute a PCA (eigenfaces) on the face dataset (treated as unlabeled\n",
    "dataset): unsupervised feature extraction / dimensionality reduction\n"
   ]
  },
  {
   "cell_type": "code",
   "execution_count": 174,
   "metadata": {
    "collapsed": false,
    "deletable": true,
    "editable": true
   },
   "outputs": [
    {
     "name": "stdout",
     "output_type": "stream",
     "text": [
      "Extracting the top 100 eigenfaces from 966 faces\n",
      "done in 0.233s\n",
      "Projecting the input data on the eigenfaces orthonormal basis\n",
      "done in 0.027s\n"
     ]
    },
    {
     "data": {
      "text/plain": [
       "<matplotlib.text.Text at 0x7f8e2a9a7dd0>"
      ]
     },
     "execution_count": 174,
     "metadata": {},
     "output_type": "execute_result"
    },
    {
     "data": {
      "image/png": "[encoded data removed]",
      "text/plain": [
       "<matplotlib.figure.Figure at 0x7f8e2aaeb750>"
      ]
     },
     "metadata": {},
     "output_type": "display_data"
    }
   ],
   "source": [
    "n_components = 100\n",
    "\n",
    "print(\"Extracting the top %d eigenfaces from %d faces\"\n",
    "      % (n_components, X_train.shape[0]))\n",
    "t0 = time()\n",
    "pca = PCA(n_components=n_components, svd_solver='randomized',\n",
    "          whiten=True).fit(X_train)\n",
    "print(\"done in %0.3fs\" % (time() - t0))\n",
    "\n",
    "eigenfaces = pca.components_.reshape((n_components, h, w))\n",
    "\n",
    "print(\"Projecting the input data on the eigenfaces orthonormal basis\")\n",
    "t0 = time()\n",
    "X_train_pca = pca.transform(X_train)\n",
    "X_test_pca = pca.transform(X_test)\n",
    "\n",
    "print(\"done in %0.3fs\" % (time() - t0))\n",
    "\n",
    "plt.figure(1, figsize=(4, 3))\n",
    "plt.clf()\n",
    "plt.axes([.2, .2, .7, .7])\n",
    "plt.plot(np.cumsum(pca.explained_variance_), linewidth=2)\n",
    "    \n",
    "plt.axis('tight')\n",
    "plt.xlabel('n_components')\n",
    "plt.ylabel('explained_variance_')"
   ]
  },
  {
   "cell_type": "code",
   "execution_count": 175,
   "metadata": {
    "collapsed": false
   },
   "outputs": [],
   "source": [
    "from sklearn.tree import DecisionTreeClassifier\n",
    "\n",
    "#Decision Tree\n",
    "#\n",
    "# param_grid para a GridSearchCV:\n",
    "#param_grid = {'max_depth': [10, 25, 50, 75, 100, 150, 200, 400],\n",
    "#              'criterion': ['gini', 'entropy'],\n",
    "#              'max_features': ['auto', 'sqrt', 'log2', None],\n",
    "#              'class_weight': ['balanced', None]\n",
    "#              }\n",
    "#clf = GridSearchCV(DecisionTreeClassifier(), param_grid)\n",
    "#clf = clf.fit(X_train_pca, y_train)\n",
    "#print(clf.best_estimator_)\n",
    "\n",
    "#melhor escolha\n",
    "clf = DecisionTreeClassifier(class_weight=None, criterion='entropy', max_depth=400,\n",
    "            max_features=None, max_leaf_nodes=None,\n",
    "            min_impurity_split=1e-07, min_samples_leaf=1,\n",
    "            min_samples_split=2, min_weight_fraction_leaf=0.0,\n",
    "            presort=False, random_state=None, splitter='best')\n",
    "\n",
    "clfss.append(clf)\n"
   ]
  },
  {
   "cell_type": "code",
   "execution_count": 176,
   "metadata": {
    "collapsed": false
   },
   "outputs": [],
   "source": [
    "#Naive Bayes\n",
    "#\n",
    "#pega a proporção de cada classe pra usar como prior no naive Bayes\n",
    "proportion = []\n",
    "parent_path = 'lfw_funneled'\n",
    "\n",
    "for name in target_names:\n",
    "    proportion.append(float(len(os.listdir(('lfw_funneled/'+ name).replace(' ', '_')))) / float(n_samples) )\n",
    "    \n",
    "#print('Proporções de cada classe ', proportion)\n",
    "\n",
    "#executa o naive bayes\n",
    "from sklearn.naive_bayes import GaussianNB\n",
    "#clf = GaussianNB(priors = proportion)\n",
    "clf = GaussianNB()\n",
    "\n",
    "clfss.append(clf)\n"
   ]
  },
  {
   "cell_type": "code",
   "execution_count": 177,
   "metadata": {
    "collapsed": false
   },
   "outputs": [],
   "source": [
    "from sklearn.neighbors import KNeighborsClassifier\n",
    "\n",
    "# KNeighborsClassifier\n",
    "#\n",
    "#param_grid para a GridSearchCV:\n",
    "#param_grid = {'n_neighbors': [2, 4, 5, 6, 8, 20, 50, 100, 200, 400],\n",
    "#              'algorithm': ['brute', 'ball_tree', 'kd_tree'],\n",
    "#              'weights': ['uniform', 'distance']}\n",
    "#clf = GridSearchCV(KNeighborsClassifier(), param_grid)\n",
    "\n",
    "#clf = clf.fit(X_train_pca, y_train)\n",
    "#print(clf.best_estimator_)\n",
    "\n",
    "#resultado da melhor escolha\n",
    "clf = KNeighborsClassifier(algorithm='brute', leaf_size=30, metric='minkowski',\n",
    "           metric_params=None, n_jobs=1, n_neighbors=4, p=2,\n",
    "           weights='distance')\n",
    "\n",
    "clfss.append(clf)"
   ]
  },
  {
   "cell_type": "code",
   "execution_count": 178,
   "metadata": {
    "collapsed": false
   },
   "outputs": [],
   "source": [
    "from sklearn.discriminant_analysis import LinearDiscriminantAnalysis as LDA\n",
    "\n",
    "# LDA\n",
    "#\n",
    "#\n",
    "#param_grid = {'solver': ['svd', 'lsqr', 'eigen']}\n",
    "#\n",
    "#clf = GridSearchCV(LDA(), param_grid)\n",
    "#clf = clf.fit(X_train_pca, y_train)\n",
    "#print(clf.best_estimator_)\n",
    "\n",
    "#clf = clf.fit(X_train_pca, y_train)\n",
    "#y_pred = clf.predict(X_test_pca)\n",
    "#analyzeFeaturesLDA(X_test_pca, y_test, clf)\n",
    "\n",
    "\n",
    "#resultado da melhor escolha\n",
    "clf = LDA(n_components=None, priors=None, shrinkage=None,solver='svd', store_covariance=False, tol=0.0001)\n",
    "clfss.append(clf)\n",
    "\n",
    "\n"
   ]
  },
  {
   "cell_type": "markdown",
   "metadata": {
    "deletable": true,
    "editable": true
   },
   "source": [
    "Train a SVM classification model\n"
   ]
  },
  {
   "cell_type": "code",
   "execution_count": 179,
   "metadata": {
    "collapsed": false,
    "deletable": true,
    "editable": true
   },
   "outputs": [],
   "source": [
    "# SVM\n",
    "\n",
    "#\n",
    "#print(\"Fitting the classifier to the training set\")\n",
    "#t0 = time()\n",
    "#param_grid = {'C': [1e3, 5e3, 1e4, 5e4, 1e5],\n",
    "#              'gamma': [0.0001, 0.0005, 0.001, 0.005, 0.01, 0.1], }\n",
    "#clf = GridSearchCV(SVC(kernel='rbf', class_weight='balanced'), param_grid)\n",
    "#clf = clf.fit(X_train_pca, y_train)\n",
    "#print(\"done in %0.3fs\" % (time() - t0))\n",
    "#print(\"Best estimator found by grid search:\")\n",
    "#print(clf.best_estimator_)\n",
    "\n",
    "#resultado selecionado\n",
    "#SVC(C=1000.0, cache_size=200, class_weight='balanced', coef0=0.0,\n",
    "#  decision_function_shape=None, degree=3, gamma=0.005, kernel='rbf',\n",
    "#  max_iter=-1, probability=False, random_state=None, shrinking=True,\n",
    "#  tol=0.001, verbose=False)\n",
    "\n",
    "clf = SVC(C=1000.0, cache_size=200, class_weight='balanced', coef0=0.0,\n",
    "  decision_function_shape=None, degree=3, gamma=0.005, kernel='rbf',\n",
    "  max_iter=-1, probability=False, random_state=None, shrinking=True,\n",
    "  tol=0.001, verbose=False)\n",
    "\n",
    "clfss.append(clf)\n",
    "\n",
    "\n",
    "#clf = clf.fit(X_train_pca, y_train)\n",
    "\n"
   ]
  },
  {
   "cell_type": "markdown",
   "metadata": {
    "deletable": true,
    "editable": true
   },
   "source": [
    "Quantitative evaluation of the model quality on the test set\n"
   ]
  },
  {
   "cell_type": "code",
   "execution_count": null,
   "metadata": {
    "collapsed": false,
    "deletable": true,
    "editable": true
   },
   "outputs": [],
   "source": []
  },
  {
   "cell_type": "code",
   "execution_count": 180,
   "metadata": {
    "collapsed": false
   },
   "outputs": [
    {
     "name": "stdout",
     "output_type": "stream",
     "text": [
      "5\n",
      "================================================\n",
      "medindo componentes\n",
      "================================================\n",
      "================================================\n",
      "treinando classificadores\n",
      "================================================\n",
      "================================================\n",
      "Predição classificador DecisionTreeClassifier\n",
      "================================================\n",
      "done in 0.000s\n",
      "                   precision    recall  f1-score   support\n",
      "\n",
      "     Ariel Sharon       0.25      0.38      0.30        13\n",
      "     Colin Powell       0.50      0.37      0.42        60\n",
      "  Donald Rumsfeld       0.26      0.33      0.30        27\n",
      "    George W Bush       0.73      0.64      0.68       146\n",
      "Gerhard Schroeder       0.22      0.24      0.23        25\n",
      "      Hugo Chavez       0.23      0.40      0.29        15\n",
      "       Tony Blair       0.31      0.36      0.33        36\n",
      "\n",
      "      avg / total       0.52      0.48      0.49       322\n",
      "\n",
      "[[ 5  5  1  2  0  0  0]\n",
      " [ 6 22  2 14  5  0 11]\n",
      " [ 4  1  9  7  3  1  2]\n",
      " [ 4 10 13 94  5 12  8]\n",
      " [ 1  2  5  3  6  3  5]\n",
      " [ 0  1  0  3  2  6  3]\n",
      " [ 0  3  4  6  6  4 13]]\n",
      "================================================\n",
      "Predição classificador GaussianNB\n",
      "================================================\n",
      "done in 0.002s\n",
      "                   precision    recall  f1-score   support\n",
      "\n",
      "     Ariel Sharon       0.54      1.00      0.70        13\n",
      "     Colin Powell       0.84      0.70      0.76        60\n",
      "  Donald Rumsfeld       0.70      0.52      0.60        27\n",
      "    George W Bush       0.79      0.90      0.84       146\n",
      "Gerhard Schroeder       0.71      0.68      0.69        25\n",
      "      Hugo Chavez       0.89      0.53      0.67        15\n",
      "       Tony Blair       0.78      0.58      0.67        36\n",
      "\n",
      "      avg / total       0.78      0.77      0.76       322\n",
      "\n",
      "[[ 13   0   0   0   0   0   0]\n",
      " [  3  42   3   9   0   1   2]\n",
      " [  2   3  14   7   1   0   0]\n",
      " [  5   4   1 132   2   0   2]\n",
      " [  0   0   1   5  17   0   2]\n",
      " [  1   0   0   3   3   8   0]\n",
      " [  0   1   1  12   1   0  21]]\n",
      "================================================\n",
      "Predição classificador KNeighborsClassifier\n",
      "================================================\n",
      "done in 0.009s\n",
      "                   precision    recall  f1-score   support\n",
      "\n",
      "     Ariel Sharon       1.00      0.69      0.82        13\n",
      "     Colin Powell       0.62      0.67      0.65        60\n",
      "  Donald Rumsfeld       0.76      0.59      0.67        27\n",
      "    George W Bush       0.77      0.86      0.82       146\n",
      "Gerhard Schroeder       0.67      0.32      0.43        25\n",
      "      Hugo Chavez       0.69      0.60      0.64        15\n",
      "       Tony Blair       0.60      0.67      0.63        36\n",
      "\n",
      "      avg / total       0.72      0.72      0.71       322\n",
      "\n",
      "[[  9   1   0   3   0   0   0]\n",
      " [  0  40   3   9   3   0   5]\n",
      " [  0   2  16   9   0   0   0]\n",
      " [  0  11   1 126   1   1   6]\n",
      " [  0   4   0   6   8   2   5]\n",
      " [  0   2   1   3   0   9   0]\n",
      " [  0   4   0   7   0   1  24]]\n",
      "================================================\n",
      "Predição classificador LinearDiscriminantAnalysis\n",
      "================================================\n",
      "done in 0.000s\n",
      "                   precision    recall  f1-score   support\n",
      "\n",
      "     Ariel Sharon       0.67      0.92      0.77        13\n",
      "     Colin Powell       0.77      0.78      0.78        60\n",
      "  Donald Rumsfeld       0.81      0.63      0.71        27\n",
      "    George W Bush       0.88      0.89      0.88       146\n",
      "Gerhard Schroeder       0.70      0.76      0.73        25\n",
      "      Hugo Chavez       0.73      0.73      0.73        15\n",
      "       Tony Blair       0.69      0.61      0.65        36\n",
      "\n",
      "      avg / total       0.80      0.80      0.80       322\n",
      "\n",
      "[[ 12   1   0   0   0   0   0]\n",
      " [  3  47   1   6   0   2   1]\n",
      " [  1   2  17   5   1   1   0]\n",
      " [  2   6   2 130   1   0   5]\n",
      " [  0   1   1   1  19   0   3]\n",
      " [  0   2   0   0   1  11   1]\n",
      " [  0   2   0   6   5   1  22]]\n",
      "================================================\n",
      "Predição classificador SVC\n",
      "================================================\n",
      "done in 0.037s\n",
      "                   precision    recall  f1-score   support\n",
      "\n",
      "     Ariel Sharon       0.80      0.92      0.86        13\n",
      "     Colin Powell       0.79      0.88      0.83        60\n",
      "  Donald Rumsfeld       0.79      0.85      0.82        27\n",
      "    George W Bush       0.90      0.91      0.91       146\n",
      "Gerhard Schroeder       0.86      0.72      0.78        25\n",
      "      Hugo Chavez       0.92      0.73      0.81        15\n",
      "       Tony Blair       0.90      0.78      0.84        36\n",
      "\n",
      "      avg / total       0.87      0.86      0.86       322\n",
      "\n",
      "[[ 12   1   0   0   0   0   0]\n",
      " [  1  53   0   4   0   1   1]\n",
      " [  0   2  23   2   0   0   0]\n",
      " [  2   8   3 133   0   0   0]\n",
      " [  0   1   2   2  18   0   2]\n",
      " [  0   2   0   1   1  11   0]\n",
      " [  0   0   1   5   2   0  28]]\n",
      "bestNC:\n",
      "[45, 75, 80, 75, 85]\n"
     ]
    },
    {
     "data": {
      "text/plain": [
       "[45, 75, 80, 75, 85]"
      ]
     },
     "execution_count": 180,
     "metadata": {},
     "output_type": "execute_result"
    }
   ],
   "source": [
    "\n",
    "\n",
    "\n",
    "\n",
    "def train_classifiersPCA(classifiers, train, test):\n",
    "    \n",
    "    print(len(classifiers))\n",
    "    bestNC = []\n",
    "    print(\"================================================\")\n",
    "    print(\"medindo componentes\")\n",
    "    print(\"================================================\")\n",
    "    #mede o melhor numero de componentes de cada classificador\n",
    "    for clf in classifiers: \n",
    "        #n componentes\n",
    "        n_components_array=[20, 30, 45, 55, 65,75,80,85,100]\n",
    "        score_array = np.zeros(len(n_components_array))\n",
    "        i=0\n",
    "\n",
    "        # Mede o melhor numero de componentes\n",
    "        for n_components in n_components_array:\n",
    "            pca = PCA(n_components=n_components, svd_solver='randomized', whiten=True).fit(train)\n",
    "            \n",
    "            transformTrain = pca.transform(train)\n",
    "            transformTest = pca.transform(test)\n",
    "            \n",
    "            clf.fit(transformTrain, y_train)\n",
    "            #mede seu score\n",
    "            score_array[i] = clf.score(transformTest, y_test)\n",
    "            i=i+1\n",
    "        #seleciona o melhor numero de componentes dentre as opcoes\n",
    "        bestNC.append(n_components_array[score_array.argmax(axis=0)])        \n",
    "        \n",
    "    print(\"================================================\")\n",
    "    print(\"treinando classificadores\")\n",
    "    print(\"================================================\")\n",
    "    #treina os classificadores com os valores encontrados\n",
    "    for idx, clf in enumerate(classifiers):\n",
    "        #roda o PCA\n",
    "        pca = PCA(n_components=bestNC[idx], svd_solver='randomized', whiten=True).fit(train)\n",
    "        #treina o classificador\n",
    "        transformTrain = pca.transform(train)\n",
    "        transformTest = pca.transform(test)\n",
    "        \n",
    "        clf.fit(transformTrain, y_train)\n",
    "        \n",
    "        #prediz\n",
    "        print(\"================================================\")\n",
    "        #plt.xlabel(\"Predição classificador \" + clf.__class__.__name__, size=20)\n",
    "        print(\"Predição classificador \" + clf.__class__.__name__)\n",
    "        print(\"================================================\")\n",
    "        \n",
    "        t0 = time()\n",
    "        y_pred = clf.predict(transformTest)\n",
    "        print(\"done in %0.3fs\" % (time() - t0))\n",
    "\n",
    "        print(classification_report(y_test, y_pred, target_names=target_names))\n",
    "        print(confusion_matrix(y_test, y_pred, labels=range(n_classes)))\n",
    "            \n",
    "\n",
    "    print(\"bestNC:\")\n",
    "    print(bestNC)        \n",
    "    return bestNC\n",
    "\n",
    "train_classifiersPCA(clfss, X_train, X_test)"
   ]
  },
  {
   "cell_type": "code",
   "execution_count": 181,
   "metadata": {
    "collapsed": true
   },
   "outputs": [],
   "source": [
    "def variancePCA(train, target):\n",
    "    \n",
    "    pca = PCA(n_components=train.shape[1])\n",
    "    pca.fit(train)\n",
    "        \n",
    "    plt.figure(1, figsize=(4, 3))\n",
    "    plt.clf()\n",
    "    plt.axes([.2, .2, .7, .7])\n",
    "    plt.plot(np.cumsum(pca.explained_variance_), linewidth=2)\n",
    "    \n",
    "    plt.axis('tight')\n",
    "    plt.xlabel('n_components')\n",
    "    plt.ylabel('explained_variance_')"
   ]
  },
  {
   "cell_type": "markdown",
   "metadata": {
    "deletable": true,
    "editable": true
   },
   "source": [
    "Qualitative evaluation of the predictions using matplotlib\n"
   ]
  },
  {
   "cell_type": "code",
   "execution_count": 182,
   "metadata": {
    "collapsed": false,
    "deletable": true,
    "editable": true
   },
   "outputs": [],
   "source": [
    "def plot_gallery(images, titles, h, w, n_row=3, n_col=4):\n",
    "    \"\"\"Helper function to plot a gallery of portraits\"\"\"\n",
    "    plt.figure(figsize=(1.8 * n_col, 2.4 * n_row))\n",
    "    plt.subplots_adjust(bottom=0, left=.01, right=.99, top=.90, hspace=.35)\n",
    "    for i in range(n_row * n_col):\n",
    "        plt.subplot(n_row, n_col, i + 1)\n",
    "        plt.imshow(images[i].reshape((h, w)), cmap=plt.cm.gray)\n",
    "        plt.title(titles[i], size=12)\n",
    "        plt.xticks(())\n",
    "        plt.yticks(())\n",
    "\n",
    "\n",
    "# plot the result of the prediction on a portion of the test set\n",
    "\n",
    "def title(y_pred, y_test, target_names, i):\n",
    "    pred_name = target_names[y_pred[i]].rsplit(' ', 1)[-1]\n",
    "    true_name = target_names[y_test[i]].rsplit(' ', 1)[-1]\n",
    "    return 'predicted: %s\\ntrue:      %s' % (pred_name, true_name)\n",
    "\n",
    "#prediction_titles = [title(y_pred, y_test, target_names, i)\n",
    "#                     for i in range(y_pred.shape[0])]\n",
    "\n",
    "#plot_gallery(X_test, prediction_titles, h, w)\n",
    "\n",
    "# plot the gallery of the most significative eigenfaces\n",
    "\n",
    "#eigenface_titles = [\"eigenface %d\" % i for i in range(eigenfaces.shape[0])]\n",
    "#plot_gallery(eigenfaces, eigenface_titles, h, w)\n",
    "\n",
    "#plt.show()"
   ]
  },
  {
   "cell_type": "code",
   "execution_count": 183,
   "metadata": {
    "collapsed": false
   },
   "outputs": [],
   "source": [
    "def analyzeFeaturesLDA(train, target, lda):\n",
    "    \n",
    "    # Taking in as second argument the Target as labels\n",
    "    lda = LDA(n_components=2)\n",
    "    transform = lda.fit_transform(train, target)\n",
    "    \n",
    "    plt.figure(figsize=(6,5))\n",
    "    plt.scatter(transform[:,0],transform[:,1], s=20, c = target, cmap = \"nipy_spectral\", edgecolor = \"None\")\n",
    "    plt.colorbar()\n",
    "    plt.clim(0,9)\n"
   ]
  },
  {
   "cell_type": "code",
   "execution_count": null,
   "metadata": {
    "collapsed": true
   },
   "outputs": [],
   "source": []
  }
 ],
 "metadata": {
  "kernelspec": {
   "display_name": "Python 2",
   "language": "python",
   "name": "python2"
  },
  "language_info": {
   "codemirror_mode": {
    "name": "ipython",
    "version": 2
   },
   "file_extension": ".py",
   "mimetype": "text/x-python",
   "name": "python",
   "nbconvert_exporter": "python",
   "pygments_lexer": "ipython2",
   "version": "2.7.13"
  }
 },
 "nbformat": 4,
 "nbformat_minor": 0
}
